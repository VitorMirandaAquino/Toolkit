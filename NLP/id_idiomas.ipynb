{
 "cells": [
  {
   "cell_type": "markdown",
   "metadata": {},
   "source": [
    "# Resumo\n",
    "Neste notebook será criado um modelo para identificar o idioma de textos"
   ]
  },
  {
   "cell_type": "markdown",
   "metadata": {},
   "source": [
    "# 1. Imports"
   ]
  },
  {
   "cell_type": "code",
   "execution_count": 15,
   "metadata": {},
   "outputs": [],
   "source": [
    "import pandas as pd\n",
    "import re\n",
    "import nlp_functions\n",
    "\n",
    "from sklearn.model_selection import train_test_split\n",
    "\n",
    "from nltk.util import bigrams\n",
    "from nltk.lm.preprocessing import pad_both_ends\n",
    "from nltk.lm.preprocessing import padded_everygram_pipeline\n",
    "from nltk.lm import MLE\n",
    "from nltk.lm import Laplace"
   ]
  },
  {
   "cell_type": "markdown",
   "metadata": {},
   "source": [
    "# 2. Carregando dados"
   ]
  },
  {
   "cell_type": "code",
   "execution_count": 18,
   "metadata": {},
   "outputs": [],
   "source": [
    "SEED = 123"
   ]
  },
  {
   "cell_type": "code",
   "execution_count": 19,
   "metadata": {},
   "outputs": [
    {
     "data": {
      "text/html": [
       "<div>\n",
       "<style scoped>\n",
       "    .dataframe tbody tr th:only-of-type {\n",
       "        vertical-align: middle;\n",
       "    }\n",
       "\n",
       "    .dataframe tbody tr th {\n",
       "        vertical-align: top;\n",
       "    }\n",
       "\n",
       "    .dataframe thead th {\n",
       "        text-align: right;\n",
       "    }\n",
       "</style>\n",
       "<table border=\"1\" class=\"dataframe\">\n",
       "  <thead>\n",
       "    <tr style=\"text-align: right;\">\n",
       "      <th></th>\n",
       "      <th>Id</th>\n",
       "      <th>Título</th>\n",
       "      <th>Questão</th>\n",
       "      <th>Tags</th>\n",
       "      <th>Pontuação</th>\n",
       "      <th>Visualizações</th>\n",
       "    </tr>\n",
       "  </thead>\n",
       "  <tbody>\n",
       "    <tr>\n",
       "      <th>0</th>\n",
       "      <td>2402</td>\n",
       "      <td>Como fazer hash de senhas de forma segura?</td>\n",
       "      <td>&lt;p&gt;Se eu fizer o &lt;em&gt;&lt;a href=\"http://pt.wikipe...</td>\n",
       "      <td>&lt;hash&gt;&lt;segurança&gt;&lt;senhas&gt;&lt;criptografia&gt;</td>\n",
       "      <td>350</td>\n",
       "      <td>22367</td>\n",
       "    </tr>\n",
       "    <tr>\n",
       "      <th>1</th>\n",
       "      <td>6441</td>\n",
       "      <td>Qual é a diferença entre INNER JOIN e OUTER JOIN?</td>\n",
       "      <td>&lt;p&gt;Qual é a diferença entre &lt;code&gt;INNER JOIN&lt;/...</td>\n",
       "      <td>&lt;sql&gt;&lt;join&gt;</td>\n",
       "      <td>276</td>\n",
       "      <td>176953</td>\n",
       "    </tr>\n",
       "    <tr>\n",
       "      <th>2</th>\n",
       "      <td>579</td>\n",
       "      <td>Por que não devemos usar funções do tipo mysql_*?</td>\n",
       "      <td>&lt;p&gt;Uma dúvida muito comum é por que devemos pa...</td>\n",
       "      <td>&lt;php&gt;&lt;mysql&gt;</td>\n",
       "      <td>226</td>\n",
       "      <td>9761</td>\n",
       "    </tr>\n",
       "    <tr>\n",
       "      <th>3</th>\n",
       "      <td>2539</td>\n",
       "      <td>As mensagens de erro devem se desculpar?</td>\n",
       "      <td>&lt;p&gt;É comum encontrar uma mensagem de erro que ...</td>\n",
       "      <td>&lt;aplicação-web&gt;&lt;gui&gt;&lt;console&gt;&lt;ux&gt;</td>\n",
       "      <td>214</td>\n",
       "      <td>5075</td>\n",
       "    </tr>\n",
       "    <tr>\n",
       "      <th>4</th>\n",
       "      <td>17501</td>\n",
       "      <td>Qual é a diferença de API, biblioteca e Framew...</td>\n",
       "      <td>&lt;p&gt;Me parecem termos muito próximos e eventual...</td>\n",
       "      <td>&lt;api&gt;&lt;framework&gt;&lt;terminologia&gt;&lt;biblioteca&gt;</td>\n",
       "      <td>193</td>\n",
       "      <td>54191</td>\n",
       "    </tr>\n",
       "  </tbody>\n",
       "</table>\n",
       "</div>"
      ],
      "text/plain": [
       "      Id                                             Título  \\\n",
       "0   2402         Como fazer hash de senhas de forma segura?   \n",
       "1   6441  Qual é a diferença entre INNER JOIN e OUTER JOIN?   \n",
       "2    579  Por que não devemos usar funções do tipo mysql_*?   \n",
       "3   2539           As mensagens de erro devem se desculpar?   \n",
       "4  17501  Qual é a diferença de API, biblioteca e Framew...   \n",
       "\n",
       "                                             Questão  \\\n",
       "0  <p>Se eu fizer o <em><a href=\"http://pt.wikipe...   \n",
       "1  <p>Qual é a diferença entre <code>INNER JOIN</...   \n",
       "2  <p>Uma dúvida muito comum é por que devemos pa...   \n",
       "3  <p>É comum encontrar uma mensagem de erro que ...   \n",
       "4  <p>Me parecem termos muito próximos e eventual...   \n",
       "\n",
       "                                         Tags  Pontuação  Visualizações  \n",
       "0     <hash><segurança><senhas><criptografia>        350          22367  \n",
       "1                                 <sql><join>        276         176953  \n",
       "2                                <php><mysql>        226           9761  \n",
       "3           <aplicação-web><gui><console><ux>        214           5075  \n",
       "4  <api><framework><terminologia><biblioteca>        193          54191  "
      ]
     },
     "execution_count": 19,
     "metadata": {},
     "output_type": "execute_result"
    }
   ],
   "source": [
    "df_port = pd.read_csv('data/stackoverflow_portugues.csv')\n",
    "df_port.head()"
   ]
  },
  {
   "cell_type": "code",
   "execution_count": 20,
   "metadata": {},
   "outputs": [
    {
     "data": {
      "text/html": [
       "<div>\n",
       "<style scoped>\n",
       "    .dataframe tbody tr th:only-of-type {\n",
       "        vertical-align: middle;\n",
       "    }\n",
       "\n",
       "    .dataframe tbody tr th {\n",
       "        vertical-align: top;\n",
       "    }\n",
       "\n",
       "    .dataframe thead th {\n",
       "        text-align: right;\n",
       "    }\n",
       "</style>\n",
       "<table border=\"1\" class=\"dataframe\">\n",
       "  <thead>\n",
       "    <tr style=\"text-align: right;\">\n",
       "      <th></th>\n",
       "      <th>Id</th>\n",
       "      <th>Título</th>\n",
       "      <th>Questão</th>\n",
       "      <th>Tags</th>\n",
       "      <th>Pontuação</th>\n",
       "      <th>Visualizações</th>\n",
       "    </tr>\n",
       "  </thead>\n",
       "  <tbody>\n",
       "    <tr>\n",
       "      <th>0</th>\n",
       "      <td>11227809</td>\n",
       "      <td>Why is it faster to process a sorted array tha...</td>\n",
       "      <td>&lt;p&gt;Here is a piece of C++ code that seems very...</td>\n",
       "      <td>&lt;java&gt;&lt;c++&gt;&lt;performance&gt;&lt;optimization&gt;&lt;branch-...</td>\n",
       "      <td>23057</td>\n",
       "      <td>1358574</td>\n",
       "    </tr>\n",
       "    <tr>\n",
       "      <th>1</th>\n",
       "      <td>927358</td>\n",
       "      <td>How do I undo the most recent local commits in...</td>\n",
       "      <td>&lt;p&gt;I accidentally committed the wrong files to...</td>\n",
       "      <td>&lt;git&gt;&lt;version-control&gt;&lt;git-commit&gt;&lt;undo&gt;</td>\n",
       "      <td>19640</td>\n",
       "      <td>7906137</td>\n",
       "    </tr>\n",
       "    <tr>\n",
       "      <th>2</th>\n",
       "      <td>2003505</td>\n",
       "      <td>How do I delete a Git branch locally and remot...</td>\n",
       "      <td>&lt;p&gt;I want to delete a branch both locally and ...</td>\n",
       "      <td>&lt;git&gt;&lt;git-branch&gt;&lt;git-remote&gt;</td>\n",
       "      <td>15249</td>\n",
       "      <td>6940906</td>\n",
       "    </tr>\n",
       "    <tr>\n",
       "      <th>3</th>\n",
       "      <td>292357</td>\n",
       "      <td>What is the difference between 'git pull' and ...</td>\n",
       "      <td>&lt;blockquote&gt;\\n  &lt;p&gt;&lt;strong&gt;Moderator Note:&lt;/st...</td>\n",
       "      <td>&lt;git&gt;&lt;git-pull&gt;&lt;git-fetch&gt;</td>\n",
       "      <td>11008</td>\n",
       "      <td>2543052</td>\n",
       "    </tr>\n",
       "    <tr>\n",
       "      <th>4</th>\n",
       "      <td>477816</td>\n",
       "      <td>What is the correct JSON content type?</td>\n",
       "      <td>&lt;p&gt;I've been messing around with &lt;a href=\"http...</td>\n",
       "      <td>&lt;json&gt;&lt;http-headers&gt;&lt;content-type&gt;</td>\n",
       "      <td>9701</td>\n",
       "      <td>2478940</td>\n",
       "    </tr>\n",
       "  </tbody>\n",
       "</table>\n",
       "</div>"
      ],
      "text/plain": [
       "         Id                                             Título  \\\n",
       "0  11227809  Why is it faster to process a sorted array tha...   \n",
       "1    927358  How do I undo the most recent local commits in...   \n",
       "2   2003505  How do I delete a Git branch locally and remot...   \n",
       "3    292357  What is the difference between 'git pull' and ...   \n",
       "4    477816             What is the correct JSON content type?   \n",
       "\n",
       "                                             Questão  \\\n",
       "0  <p>Here is a piece of C++ code that seems very...   \n",
       "1  <p>I accidentally committed the wrong files to...   \n",
       "2  <p>I want to delete a branch both locally and ...   \n",
       "3  <blockquote>\\n  <p><strong>Moderator Note:</st...   \n",
       "4  <p>I've been messing around with <a href=\"http...   \n",
       "\n",
       "                                                Tags  Pontuação  Visualizações  \n",
       "0  <java><c++><performance><optimization><branch-...      23057        1358574  \n",
       "1           <git><version-control><git-commit><undo>      19640        7906137  \n",
       "2                      <git><git-branch><git-remote>      15249        6940906  \n",
       "3                         <git><git-pull><git-fetch>      11008        2543052  \n",
       "4                 <json><http-headers><content-type>       9701        2478940  "
      ]
     },
     "execution_count": 20,
     "metadata": {},
     "output_type": "execute_result"
    }
   ],
   "source": [
    "df_ingles = pd.read_csv('data/stackoverflow_ingles.csv')\n",
    "df_ingles.head()"
   ]
  },
  {
   "cell_type": "markdown",
   "metadata": {},
   "source": [
    "# 3. Funções"
   ]
  },
  {
   "cell_type": "code",
   "execution_count": 32,
   "metadata": {},
   "outputs": [],
   "source": [
    "def remover(textos, regex):\n",
    "    \"\"\"\n",
    "    Remove padrões correspondentes à expressão regular 'regex' dos textos fornecidos.\n",
    "\n",
    "    Args:\n",
    "        textos (str ou list): Texto ou lista de textos nos quais aplicar a remoção.\n",
    "        regex (re.Pattern): Expressão regular compilada para os padrões a serem removidos.\n",
    "\n",
    "    Returns:\n",
    "        str ou list: Texto ou lista de textos com os padrões correspondentes removidos.\n",
    "    \"\"\"\n",
    "    if type(textos) == str:\n",
    "        return regex.sub(\"\", textos)\n",
    "    else:\n",
    "        return [regex.sub(\"\", texto) for texto in textos]\n",
    "    \n",
    "def substituir_codigo(textos, regex):\n",
    "    \"\"\"\n",
    "    Substitui padrões correspondentes à expressão regular 'regex' por \"CODE\" nos textos fornecidos.\n",
    "\n",
    "    Args:\n",
    "        textos (str ou list): Texto ou lista de textos nos quais aplicar a substituição.\n",
    "        regex (re.Pattern): Expressão regular compilada para os padrões a serem substituídos.\n",
    "\n",
    "    Returns:\n",
    "        str ou list: Texto ou lista de textos com os padrões correspondentes substituídos por \"CODE\".\n",
    "    \"\"\"\n",
    "    if type(textos) == str:\n",
    "        return regex.sub(\"CODE\", textos)\n",
    "    else:\n",
    "        return [regex.sub(\"CODE\", texto) for texto in textos]\n",
    "    \n",
    "def minusculo(textos):\n",
    "    \"\"\"\n",
    "    Converte o texto ou lista de textos para minúsculas.\n",
    "\n",
    "    Args:\n",
    "        textos (str ou list): Texto ou lista de textos a serem convertidos.\n",
    "\n",
    "    Returns:\n",
    "        str ou list: Texto ou lista de textos em letras minúsculas.\n",
    "    \"\"\"\n",
    "    if type(textos) == str:\n",
    "        return textos.lower()\n",
    "    else:\n",
    "        return [texto.lower() for texto in textos]\n",
    "    \n",
    "def substituir_por_espaco(textos, regex):\n",
    "    \"\"\"\n",
    "    Substitui padrões correspondentes à expressão regular 'regex' por espaços nos textos fornecidos.\n",
    "\n",
    "    Args:\n",
    "        textos (str ou list): Texto ou lista de textos nos quais aplicar a substituição.\n",
    "        regex (re.Pattern): Expressão regular compilada para os padrões a serem substituídos por espaços.\n",
    "\n",
    "    Returns:\n",
    "        str ou list: Texto ou lista de textos com os padrões correspondentes substituídos por espaços.\n",
    "    \"\"\"\n",
    "    if type(textos) == str:\n",
    "        return regex.sub(\" \", textos)\n",
    "    else:\n",
    "        return [regex.sub(\" \", texto) for texto in textos]"
   ]
  },
  {
   "cell_type": "code",
   "execution_count": 33,
   "metadata": {},
   "outputs": [],
   "source": [
    "def calcular_perplexidade(modelo, texto):\n",
    "    \"\"\"\n",
    "    Calcula a perplexidade do modelo de linguagem para o texto fornecido.\n",
    "\n",
    "    Args:\n",
    "        modelo: Modelo de linguagem treinado.\n",
    "        texto (str): Texto para o qual calcular a perplexidade.\n",
    "\n",
    "    Returns:\n",
    "        float: Valor da perplexidade do texto de acordo com o modelo de linguagem.\n",
    "    \"\"\"\n",
    "    \n",
    "    perplexidade = 0\n",
    "    palavras = nlp_functions.tokenize_whitespace(texto)\n",
    "    palavras_fakechar = [list(pad_both_ends(palavra, n = 2)) for palavra in palavras]\n",
    "    palavras_bigramns = [list(bigrams(palavra)) for palavra in palavras_fakechar]\n",
    "    \n",
    "    for palavra in palavras_bigramns:\n",
    "        perplexidade += modelo.perplexity(palavra)\n",
    "    \n",
    "    return perplexidade"
   ]
  },
  {
   "cell_type": "code",
   "execution_count": 34,
   "metadata": {},
   "outputs": [],
   "source": [
    "def treinar_modelo_mle(lista_textos):\n",
    "    \"\"\"\n",
    "    Treina um modelo de linguagem MLE (Maximum Likelihood Estimation) com base nos textos fornecidos.\n",
    "\n",
    "    Args:\n",
    "        lista_textos (list): Lista de textos para treinar o modelo.\n",
    "\n",
    "    Returns:\n",
    "        MLE: Modelo de linguagem treinado com a abordagem MLE.\n",
    "    \"\"\"\n",
    "    todas_questoes = ' '.join(lista_textos)\n",
    "    todas_palavras = nlp_functions.tokenize_whitespace(todas_questoes)\n",
    "    bigrams, vocabulario = padded_everygram_pipeline(2, todas_palavras)\n",
    "    modelo = MLE(2)\n",
    "    modelo.fit(bigrams, vocabulario)\n",
    "    \n",
    "    return modelo\n",
    "   \n",
    "\n",
    "def treinar_modelo_Laplace(lista_textos):\n",
    "    \"\"\"\n",
    "    Treina um modelo de linguagem Laplace com base nos textos fornecidos.\n",
    "\n",
    "    Args:\n",
    "        lista_textos (list): Lista de textos para treinar o modelo.\n",
    "\n",
    "    Returns:\n",
    "        Laplace: Modelo de linguagem treinado com a abordagem Laplace.\n",
    "    \"\"\"\n",
    "    todas_questoes = ' '.join(lista_textos)\n",
    "    todas_palavras = nlp_functions.tokenize_whitespace(todas_questoes)\n",
    "    bigrams, vocabulario = padded_everygram_pipeline(2, todas_palavras)\n",
    "    modelo = Laplace(2)\n",
    "    modelo.fit(bigrams, vocabulario)\n",
    "    \n",
    "    return modelo"
   ]
  },
  {
   "cell_type": "code",
   "execution_count": 35,
   "metadata": {},
   "outputs": [],
   "source": [
    "def atribui_idioma(lista_textos, modelo_port, modelo_ing):\n",
    "    \"\"\"\n",
    "    Atribui um idioma (português ou inglês) a cada texto com base na perplexidade calculada pelos modelos de linguagem.\n",
    "\n",
    "    Args:\n",
    "        lista_textos (list): Lista de textos para atribuir idiomas.\n",
    "        modelo_port: Modelo de linguagem para o idioma português.\n",
    "        modelo_ing: Modelo de linguagem para o idioma inglês.\n",
    "\n",
    "    Returns:\n",
    "        list: Lista de strings indicando o idioma atribuído a cada texto.\n",
    "    \"\"\"\n",
    "    \n",
    "    idioma = []\n",
    "    for texto in lista_textos:\n",
    "        portugues = calcular_perplexidade(modelo_port, texto)\n",
    "        ingles = calcular_perplexidade(modelo_ing, texto)\n",
    "        if ingles >= portugues:\n",
    "            idioma.append(\"portugues\")\n",
    "        else: \n",
    "            idioma.append(\"ingles\")\n",
    "\n",
    "    return idioma"
   ]
  },
  {
   "cell_type": "markdown",
   "metadata": {},
   "source": [
    "# 4. Regex para tratamento de texto "
   ]
  },
  {
   "cell_type": "code",
   "execution_count": 25,
   "metadata": {},
   "outputs": [],
   "source": [
    "# Regex para identificar símbolos do html\n",
    "regex_html = re.compile(r\"<.*?>\")\n",
    "# Regex para identificar códigos\n",
    "regex_codigo = re.compile(r\"<code>(.|(\\n))*?</code>\")\n",
    "# Regex para identificar a pontuação\n",
    "regex_pontuacao = re.compile(r\"[^\\w\\s]\")\n",
    "# Regex para identificar dígitos\n",
    "regex_digitos = re.compile(r\"\\d+\")\n",
    "# Regex para identificar espaços\n",
    "regex_espaco = re.compile(r\" +\")\n",
    "# Regex para identificar quebra de linha\n",
    "regex_quebra_linha = re.compile(r\"(\\n)\")"
   ]
  },
  {
   "cell_type": "code",
   "execution_count": 26,
   "metadata": {},
   "outputs": [],
   "source": [
    "questoes_port_sem_code = substituir_codigo(df_port.Questão, regex_codigo)\n",
    "questoes_port_sem_code_tag = remover(questoes_port_sem_code, regex_html)\n",
    "questoes_port_sem_pont = remover(questoes_port_sem_code_tag, regex_pontuacao)\n",
    "questoes_port_sem_pont_minus = minusculo(questoes_port_sem_pont)\n",
    "questoes_port_sem_pont_minus_dig = remover(questoes_port_sem_pont_minus, regex_digitos)\n",
    "questoes_port_sem_quebra_linha = substituir_por_espaco(questoes_port_sem_pont_minus_dig, regex_quebra_linha)\n",
    "questoes_port_sem_espaco_duplicado = substituir_por_espaco(questoes_port_sem_quebra_linha, regex_espaco)\n",
    "\n",
    "df_port[\"questoes_tratadas\"] = questoes_port_sem_espaco_duplicado\n",
    "df_port[\"idioma\"] = \"port\"\n"
   ]
  },
  {
   "cell_type": "code",
   "execution_count": 27,
   "metadata": {},
   "outputs": [],
   "source": [
    "questoes_ingles_sem_code = substituir_codigo(df_ingles.Questão, regex_codigo)\n",
    "questoes_ingles_sem_code_tag = remover(questoes_ingles_sem_code, regex_html)\n",
    "questoes_ingles_sem_pont = remover(questoes_ingles_sem_code_tag, regex_pontuacao)\n",
    "questoes_ingles_sem_pont_minus = minusculo(questoes_ingles_sem_pont)\n",
    "questoes_ingles_sem_pont_minus_dig = remover(questoes_ingles_sem_pont_minus, regex_digitos)\n",
    "questoes_ingles_sem_quebra_linha = substituir_por_espaco(questoes_ingles_sem_pont_minus_dig, regex_quebra_linha)\n",
    "questoes_ingles_sem_espaco_duplicado = substituir_por_espaco(questoes_ingles_sem_quebra_linha, regex_espaco)\n",
    "\n",
    "df_ingles[\"questoes_tratadas\"] = questoes_ingles_sem_espaco_duplicado\n",
    "df_ingles[\"idioma\"] = \"ing\""
   ]
  },
  {
   "cell_type": "markdown",
   "metadata": {},
   "source": [
    "# 5. Pipeline do Modelo"
   ]
  },
  {
   "cell_type": "markdown",
   "metadata": {},
   "source": [
    "## 5.1. Treinamento dos modelos"
   ]
  },
  {
   "cell_type": "code",
   "execution_count": 28,
   "metadata": {},
   "outputs": [],
   "source": [
    "port_treino, port_teste = train_test_split(df_port.questoes_tratadas,\n",
    "                                          test_size = 0.2,\n",
    "                                          random_state = SEED)\n",
    "\n",
    "\n",
    "ing_treino, ing_teste = train_test_split(df_ingles.questoes_tratadas,\n",
    "                                          test_size = 0.2,\n",
    "                                          random_state = SEED)"
   ]
  },
  {
   "cell_type": "code",
   "execution_count": 51,
   "metadata": {},
   "outputs": [],
   "source": [
    "modelo_mle_port = treinar_modelo_mle(port_treino)\n",
    "modelo_mle_ing = treinar_modelo_mle(ing_treino)\n",
    "modelo_laplace_port = treinar_modelo_Laplace(port_treino)\n",
    "modelo_laplace_ing = treinar_modelo_Laplace(ing_treino)"
   ]
  },
  {
   "cell_type": "markdown",
   "metadata": {},
   "source": [
    "## 5.2. Teste dos modelos MLE"
   ]
  },
  {
   "cell_type": "code",
   "execution_count": 52,
   "metadata": {},
   "outputs": [],
   "source": [
    "resultados_ingles_mle = atribui_idioma(ing_teste, modelo_mle_port, modelo_mle_ing)\n",
    "resultados_port_mle = atribui_idioma(port_teste, modelo_mle_port, modelo_mle_ing)\n",
    "\n",
    "\n",
    "taxa_acertos_ingles = (resultados_ingles_mle.count('ingles')/len(resultados_ingles_mle))*100\n",
    "taxa_acertos_portugues = (resultados_port_mle.count('portugues')/len(resultados_port_mle))*100"
   ]
  },
  {
   "cell_type": "code",
   "execution_count": 53,
   "metadata": {},
   "outputs": [
    {
     "name": "stdout",
     "output_type": "stream",
     "text": [
      "Taxa de acerto dos textos em português: 100.0\n",
      "Taxa de acerto dos textos em inglês: 83.0\n"
     ]
    }
   ],
   "source": [
    "print(f'Taxa de acerto dos textos em português: {taxa_acertos_portugues}')\n",
    "print(f'Taxa de acerto dos textos em inglês: {taxa_acertos_ingles}')"
   ]
  },
  {
   "cell_type": "markdown",
   "metadata": {},
   "source": [
    "## 5.3. Teste dos modelos Laplace"
   ]
  },
  {
   "cell_type": "code",
   "execution_count": 54,
   "metadata": {},
   "outputs": [],
   "source": [
    "resultados_ingles_laplace = atribui_idioma(ing_teste, modelo_laplace_port, modelo_laplace_ing)\n",
    "resultados_port_laplace = atribui_idioma(port_teste, modelo_laplace_port, modelo_laplace_ing)\n",
    "\n",
    "\n",
    "taxa_acertos_ingles = (resultados_ingles_laplace.count('ingles')/len(resultados_ingles_laplace))*100\n",
    "taxa_acertos_portugues = (resultados_port_laplace.count('portugues')/len(resultados_port_laplace))*100"
   ]
  },
  {
   "cell_type": "code",
   "execution_count": 50,
   "metadata": {},
   "outputs": [
    {
     "name": "stdout",
     "output_type": "stream",
     "text": [
      "Taxa de acerto dos textos em português: 100.0\n",
      "Taxa de acerto dos textos em inglês: 83.0\n"
     ]
    }
   ],
   "source": [
    "print(f'Taxa de acerto dos textos em português: {taxa_acertos_portugues}')\n",
    "print(f'Taxa de acerto dos textos em inglês: {taxa_acertos_ingles}')"
   ]
  },
  {
   "cell_type": "markdown",
   "metadata": {},
   "source": []
  }
 ],
 "metadata": {
  "kernelspec": {
   "display_name": ".venv",
   "language": "python",
   "name": "python3"
  },
  "language_info": {
   "codemirror_mode": {
    "name": "ipython",
    "version": 3
   },
   "file_extension": ".py",
   "mimetype": "text/x-python",
   "name": "python",
   "nbconvert_exporter": "python",
   "pygments_lexer": "ipython3",
   "version": "3.10.11"
  },
  "orig_nbformat": 4
 },
 "nbformat": 4,
 "nbformat_minor": 2
}
